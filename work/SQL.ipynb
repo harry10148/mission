{
 "cells": [
  {
   "cell_type": "code",
   "execution_count": 7,
   "metadata": {},
   "outputs": [
    {
     "name": "stdout",
     "output_type": "stream",
     "text": [
      "Database version : 8.0.12 \n"
     ]
    }
   ],
   "source": [
    "#檢查\n",
    "\n",
    "import pymysql\n",
    "\n",
    "# 打開數據庫連接\n",
    "db=pymysql.connect(host='mysql',user='root', password='root',db='test',port=3306)\n",
    "\n",
    "# 使用 cursor() 方法創建一個游標對象 cursor\n",
    "cursor = db.cursor()\n",
    "\n",
    "# 使用 execute()  方法執行 SQL 查詢 \n",
    "cursor.execute(\"SELECT VERSION()\")\n",
    "\n",
    "# 使用 fetchone() 方法獲取單條數據.\n",
    "data = cursor.fetchone()\n",
    "print (\"Database version : %s \" % data)\n",
    "# 關閉數據庫連接\n",
    "db.close()\n"
   ]
  },
  {
   "cell_type": "code",
   "execution_count": 20,
   "metadata": {},
   "outputs": [
    {
     "name": "stdout",
     "output_type": "stream",
     "text": [
      "Created table Successfull.\n"
     ]
    }
   ],
   "source": [
    "#新增\n",
    "import pymysql\n",
    "\n",
    "db=pymysql.connect(host='mysql',user='root', password='root',db='test',port=3306)\n",
    "cursor = db.cursor()\n",
    "cursor.execute(\"DROP TABLE IF EXISTS mission\")\n",
    "\n",
    "sql = \"\"\"CREATE TABLE `mission` (`id` int(10),`status` char(20),PRIMARY KEY (`id`)) ENGINE=InnoDB DEFAULT CHARSET=utf8;\"\"\"\n",
    "cursor.execute(sql)\n",
    "print(\"Created table Successfull.\")\n",
    "db.close()\n",
    "db.commit()"
   ]
  },
  {
   "cell_type": "code",
   "execution_count": 25,
   "metadata": {},
   "outputs": [
    {
     "name": "stdout",
     "output_type": "stream",
     "text": [
      "INSERT INTO mission (id,status)VALUES ('1', 'complete')\n",
      "Insert Successfull\n"
     ]
    }
   ],
   "source": [
    "#插入\n",
    "import pymysql\n",
    "\n",
    "db=pymysql.connect(host='mysql',user='root', password='root',db='test',port=3306)\n",
    "cursor = db.cursor()\n",
    "try:\n",
    "    sql = \"\"\"INSERT INTO mission (id,status)VALUES ('1', 'complete')\"\"\"\n",
    "    cursor.execute(sql)\n",
    "    db.commit()\n",
    "except:\n",
    "    db.rollback()\n",
    "print (sql)\n",
    "print('Insert Successfull')\n",
    "db.close()"
   ]
  },
  {
   "cell_type": "code",
   "execution_count": 52,
   "metadata": {},
   "outputs": [
    {
     "name": "stdout",
     "output_type": "stream",
     "text": [
      "Error: unable to fetch data\n"
     ]
    },
    {
     "name": "stderr",
     "output_type": "stream",
     "text": [
      "Traceback (most recent call last):\n",
      "  File \"<ipython-input-52-d126f3214e66>\", line 13, in <module>\n",
      "    for row in results:\n",
      "TypeError: 'method' object is not iterable\n"
     ]
    }
   ],
   "source": [
    "#讀取\n",
    "import pymysql\n",
    "\n",
    "db=pymysql.connect(host='mysql',user='root', password='root',db='test',port=3306)\n",
    "cursor = db.cursor()\n",
    "sql = \"SELECT * FROM mission\"\n",
    "#print (sql)\n",
    "try:\n",
    "    #Execute the SQL command\n",
    "    cursor.execute(sql)\n",
    "    # Fetch all the rows in a list of lists.\n",
    "    results = cursor.fetchall\n",
    "    for row in results:\n",
    "        id = row[1]\n",
    "        status = row[2]\n",
    "      \n",
    "    # Now print fetched result\n",
    "    print (\"id = %s ,status = %s\" % (id, status))\n",
    "\n",
    "except:\n",
    "    import traceback\n",
    "    traceback.print_exc()\n",
    "    print (\"Error: unable to fetch data\")\n",
    "\n",
    "# disconnect from server\n",
    "db.close()"
   ]
  },
  {
   "cell_type": "code",
   "execution_count": null,
   "metadata": {},
   "outputs": [],
   "source": []
  }
 ],
 "metadata": {
  "kernelspec": {
   "display_name": "Python 3",
   "language": "python",
   "name": "python3"
  },
  "language_info": {
   "codemirror_mode": {
    "name": "ipython",
    "version": 3
   },
   "file_extension": ".py",
   "mimetype": "text/x-python",
   "name": "python",
   "nbconvert_exporter": "python",
   "pygments_lexer": "ipython3",
   "version": "3.6.5"
  }
 },
 "nbformat": 4,
 "nbformat_minor": 2
}
