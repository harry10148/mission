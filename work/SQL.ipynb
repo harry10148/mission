{
 "cells": [
  {
   "cell_type": "code",
   "execution_count": 58,
   "metadata": {},
   "outputs": [
    {
     "name": "stdout",
     "output_type": "stream",
     "text": [
      "Database version : 8.0.12 \n"
     ]
    }
   ],
   "source": [
    "#檢查\n",
    "\n",
    "#導入套件\n",
    "import pymysql\n",
    "\n",
    "#打開資料庫\n",
    "db=pymysql.connect(host='mysql',user='root', password='root',db='test',port=3306)\n",
    "\n",
    "#使用 cursor() 方法創建一個游標對象 cursor\n",
    "cursor = db.cursor()\n",
    "\n",
    "#使用 execute()  執行 SQL 查詢 \n",
    "cursor.execute(\"SELECT VERSION()\")\n",
    "\n",
    "#使用 fetchone() 方法獲取單條數據.\n",
    "data = cursor.fetchone()\n",
    "print (\"Database version : %s \" % data)\n",
    "\n",
    "#關閉數據庫連接\n",
    "db.close()\n"
   ]
  },
  {
   "cell_type": "code",
   "execution_count": 15,
   "metadata": {},
   "outputs": [
    {
     "name": "stdout",
     "output_type": "stream",
     "text": [
      "Created table Successfull.\n"
     ]
    }
   ],
   "source": [
    "#新增\n",
    "\n",
    "#導入套件\n",
    "import pymysql\n",
    "\n",
    "#打開資料庫\n",
    "db=pymysql.connect(host='mysql',user='root', password='root',db='test',port=3306)\n",
    "\n",
    "#使用 cursor() 方法創建一個游標對象 cursor\n",
    "cursor = db.cursor()\n",
    "\n",
    "#使用 execute() 執行重複丟棄\n",
    "cursor.execute(\"DROP TABLE IF EXISTS mission\")\n",
    "\n",
    "#將SQL創建語法用變數代替\n",
    "sql = \"CREATE TABLE `mission` (`id` int(10),`status` char(20));\"\n",
    "\n",
    "#執行剛剛輸入的SQL語句\n",
    "cursor.execute(sql)\n",
    "\n",
    "#將剛剛的操作與資料庫同步\n",
    "db.commit()\n",
    "print(\"Created table Successfull.\")\n",
    "\n",
    "#關閉數據庫連接\n",
    "db.close()\n"
   ]
  },
  {
   "cell_type": "code",
   "execution_count": 67,
   "metadata": {
    "scrolled": true
   },
   "outputs": [
    {
     "name": "stdout",
     "output_type": "stream",
     "text": [
      "Insert Successfull\n"
     ]
    }
   ],
   "source": [
    "#插入\n",
    "\n",
    "#導入套件\n",
    "import pymysql\n",
    "\n",
    "#打開資料庫\n",
    "db=pymysql.connect(host='mysql',user='root', password='root',db='test',port=3306)\n",
    "\n",
    "#使用 cursor() 方法創建一個游標對象 cursor\n",
    "cursor = db.cursor()\n",
    "\n",
    "#將SQL插入語法用變數代替\n",
    "sql = \"INSERT INTO mission (id,status)VALUES ('1', 'complete')\"\n",
    "cursor.execute(sql)\n",
    "sql = \"INSERT INTO mission (id,status)VALUES ('2', 'complete')\"\n",
    "cursor.execute(sql)\n",
    "sql = \"INSERT INTO mission (id,status)VALUES ('3', 'complete')\"\n",
    "cursor.execute(sql)\n",
    "sql = \"INSERT INTO mission (id,status)VALUES ('4', 'stillworking')\"\n",
    "cursor.execute(sql)#執行剛剛輸入的SQL語句\n",
    "\n",
    "\n",
    "\n",
    "#將剛剛的操作與資料庫同步\n",
    "db.commit()\n",
    "\n",
    "print('Insert Successfull')\n",
    "#關閉數據庫連接\n",
    "db.close()"
   ]
  },
  {
   "cell_type": "code",
   "execution_count": 79,
   "metadata": {},
   "outputs": [],
   "source": [
    "#查詢\n",
    "\n",
    "#導入套件\n",
    "import pymysql\n",
    "\n",
    "#打開資料庫\n",
    "db=pymysql.connect(host='mysql',user='root', password='root',db='test',port=3306)\n",
    "\n",
    "#使用 cursor() 方法創建一個游標對象 cursor\n",
    "cursor = db.cursor()\n",
    "\n",
    "#將SQL插入語法用變數代替\n",
    "sql = \"SELECT * FROM mission\"\n",
    "\n",
    "#執行剛剛輸入的SQL語句\n",
    "cursor.execute(sql)\n",
    "\n",
    "\n",
    "#results = cursor.fetchone()  #ftchone() 列出單一列數據 \n",
    "#print(results)\n",
    "                           \n",
    "#fetchall() 用for的放式列出所有數據 ( 陣列 ) \n",
    "results = cursor.fetchall() \n",
    "    \n",
    "for row in results:\n",
    "    id = row[0]\n",
    "    status = row[1]\n",
    "    print (\"id:%d  status:%s\" % (id, status ))\n",
    "                    \n",
    "cursor.close()\n",
    "\n",
    "#關閉數據庫連接\n",
    "db.close()"
   ]
  },
  {
   "cell_type": "code",
   "execution_count": 69,
   "metadata": {},
   "outputs": [],
   "source": [
    "#修改\n",
    "\n",
    "#導入套件\n",
    "import pymysql\n",
    "\n",
    "#打開資料庫\n",
    "db=pymysql.connect(host='mysql',user='root', password='root',db='test',port=3306)\n",
    "\n",
    "#使用 cursor() 方法創建一個游標對象 cursor\n",
    "cursor = db.cursor()\n",
    "# SQL 更新語句\n",
    "sql = \"UPDATE mission SET status = id + 87 WHERE status = '%s'\" % ('0')\n",
    "#將剛剛的操作與資料庫同步\n",
    "cursor.execute(sql)\n",
    "#關閉數據庫連接\n",
    "db.commit()"
   ]
  },
  {
   "cell_type": "code",
   "execution_count": 80,
   "metadata": {},
   "outputs": [],
   "source": [
    "#刪除\n",
    "\n",
    "#導入套件\n",
    "import pymysql\n",
    "\n",
    "#打開資料庫\n",
    "db=pymysql.connect(host='mysql',user='root', password='root',db='test',port=3306)\n",
    "\n",
    "#使用 cursor() 方法創建一個游標對象 cursor\n",
    "cursor = db.cursor()\n",
    "# SQL 刪除語句\n",
    "sql = \"DELETE FROM mission WHERE id > '%d'\" % (2)\n",
    "#將剛剛的操作與資料庫同步\n",
    "cursor.execute(sql)\n",
    "#關閉數據庫連接\n",
    "db.commit()"
   ]
  }
 ],
 "metadata": {
  "kernelspec": {
   "display_name": "Python 3",
   "language": "python",
   "name": "python3"
  },
  "language_info": {
   "codemirror_mode": {
    "name": "ipython",
    "version": 3
   },
   "file_extension": ".py",
   "mimetype": "text/x-python",
   "name": "python",
   "nbconvert_exporter": "python",
   "pygments_lexer": "ipython3",
   "version": "3.6.5"
  }
 },
 "nbformat": 4,
 "nbformat_minor": 2
}
